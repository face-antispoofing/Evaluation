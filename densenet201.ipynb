{
 "cells": [
  {
   "cell_type": "code",
   "execution_count": 1,
   "metadata": {},
   "outputs": [],
   "source": [
    "import torch\n",
    "import torch.nn as nn\n",
    "import torch.optim as optim\n",
    "from torch.utils.data import DataLoader\n",
    "from torchvision.datasets import ImageFolder\n",
    "from torchvision.transforms import transforms\n",
    "from sklearn.metrics import roc_curve\n",
    "import numpy as np\n",
    "import timm"
   ]
  },
  {
   "cell_type": "code",
   "execution_count": 2,
   "metadata": {},
   "outputs": [],
   "source": [
    "# Define the transformations for data preprocessing\n",
    "transform = transforms.Compose([\n",
    "    transforms.Resize((224, 224)),\n",
    "    transforms.ToTensor(),\n",
    "    transforms.Normalize((0.5, 0.5, 0.5), (0.5, 0.5, 0.5)),\n",
    "])\n",
    "\n",
    "# Define paths to your data folders\n",
    "# Define paths to your data folders\n",
    "train_data_dir = '/u/45/muhammu2/data/Desktop/sample/train/'\n",
    "val_data_dir = '/u/45/muhammu2/data/Desktop/sample/validation/'\n",
    "test_data_dir = '/u/45/muhammu2/data/Desktop/sample/test/'\n",
    "\n",
    "# Load your training, validation, and test datasets using ImageFolder\n",
    "train_dataset = ImageFolder(root=train_data_dir, transform=transform)\n",
    "val_dataset = ImageFolder(root=val_data_dir, transform=transform)\n",
    "test_dataset = ImageFolder(root=test_data_dir, transform=transform)\n",
    "\n",
    "# Create data loaders\n",
    "batch_size = 16  # Adjust the batch size as needed\n",
    "train_loader = DataLoader(train_dataset, batch_size=batch_size, shuffle=True)\n",
    "val_loader = DataLoader(val_dataset, batch_size=batch_size, shuffle=False)\n",
    "test_loader = DataLoader(test_dataset, batch_size=batch_size, shuffle=False)"
   ]
  },
  {
   "cell_type": "code",
   "execution_count": 3,
   "metadata": {},
   "outputs": [],
   "source": [
    "# Define your SimpleDenseNet model (as defined previously)\n",
    "class SimpleDenseNet(nn.Module):\n",
    "    def __init__(self, num_classes):\n",
    "        super(SimpleDenseNet, self).__init__()\n",
    "        self.model = timm.create_model('densenet201', pretrained=True)\n",
    "        in_features = self.model.classifier.in_features\n",
    "        self.model.classifier = nn.Sequential(\n",
    "            nn.Linear(in_features, 128),\n",
    "            nn.ReLU(),\n",
    "            nn.Dropout(0.5),\n",
    "            nn.Linear(128, num_classes)\n",
    "        )\n",
    "\n",
    "    def forward(self, x):\n",
    "        return self.model(x)\n",
    "\n",
    "# Instantiate the custom DenseNet model\n",
    "num_classes = 2  # Binary classification\n",
    "model = SimpleDenseNet(num_classes)\n",
    "\n",
    "# Define the loss function and optimizer\n",
    "criterion = nn.CrossEntropyLoss()\n",
    "optimizer = optim.SGD(model.parameters(), lr=0.001, momentum=0.9)"
   ]
  },
  {
   "cell_type": "code",
   "execution_count": 4,
   "metadata": {},
   "outputs": [
    {
     "name": "stdout",
     "output_type": "stream",
     "text": [
      "Epoch 1, Loss: 0.48235172894265915\n",
      "Epoch 2, Loss: 0.27324471059772704\n",
      "Epoch 3, Loss: 0.13243597563770082\n",
      "Epoch 4, Loss: 0.06818672004673217\n",
      "Epoch 5, Loss: 0.030101422406733035\n",
      "Finished Training\n"
     ]
    }
   ],
   "source": [
    "# Train the model\n",
    "num_epochs = 5 # Adjust the number of epochs as needed\n",
    "device = torch.device(\"cuda\" if torch.cuda.is_available() else \"cpu\")\n",
    "model.to(device)\n",
    "model.train()\n",
    "\n",
    "for epoch in range(num_epochs):\n",
    "    running_loss = 0.0\n",
    "    for inputs, labels in train_loader:\n",
    "        inputs, labels = inputs.to(device), labels.to(device)\n",
    "        optimizer.zero_grad()\n",
    "        outputs = model(inputs)\n",
    "        loss = criterion(outputs, labels)\n",
    "        loss.backward()\n",
    "        optimizer.step()\n",
    "        running_loss += loss.item()\n",
    "\n",
    "    print(f\"Epoch {epoch + 1}, Loss: {running_loss / len(train_loader)}\")\n",
    "\n",
    "print(\"Finished Training\")"
   ]
  },
  {
   "cell_type": "code",
   "execution_count": 5,
   "metadata": {},
   "outputs": [
    {
     "name": "stdout",
     "output_type": "stream",
     "text": [
      "Validation EER: 1.9048, EER Threshold: -0.5025\n"
     ]
    }
   ],
   "source": [
    "# Evaluate the model and calculate EER on the validation set\n",
    "model.eval()\n",
    "val_labels, val_scores = [], []\n",
    "\n",
    "with torch.no_grad():\n",
    "    for data, labels in val_loader:\n",
    "        data, labels = data.to(device), labels.to(device)\n",
    "        outputs = model(data)\n",
    "        val_scores.extend(outputs[:, 1].cpu().numpy())  # Assuming you're interested in class 1 scores\n",
    "        val_labels.extend(labels.cpu().numpy())\n",
    "\n",
    "# Calculate Equal Error Rate (EER) on the validation set\n",
    "fpr, tpr, thresholds = roc_curve(val_labels, val_scores, pos_label=1)\n",
    "eer_threshold = thresholds[np.argmin(np.abs(tpr - (1 - fpr)))]\n",
    "eer = 1 - tpr[np.argmin(np.abs(tpr - (1 - fpr)))]\n",
    "print(f'Validation EER: {eer*100:.4f}, EER Threshold: {eer_threshold:.4f}')"
   ]
  },
  {
   "cell_type": "code",
   "execution_count": 6,
   "metadata": {},
   "outputs": [
    {
     "name": "stdout",
     "output_type": "stream",
     "text": [
      "HTER: 26.25%\n"
     ]
    }
   ],
   "source": [
    "# Calculate HTER on the test set using the EER threshold\n",
    "test_labels, test_scores = [], []\n",
    "\n",
    "with torch.no_grad():  # Ensure gradients are not tracked\n",
    "    for data, labels in test_loader:\n",
    "        data, labels = data.to(device), labels.to(device)\n",
    "        outputs = model(data)\n",
    "        test_scores.extend(outputs[:, 1].detach().cpu().numpy())  # Detach and convert to NumPy\n",
    "        test_labels.extend(labels.cpu().numpy())\n",
    "\n",
    "# Calculate the HTER on the testing set using the EER threshold\n",
    "threshold = eer_threshold\n",
    "predicted_labels = [1 if score > threshold else 0 for score in test_scores]\n",
    "\n",
    "false_acceptance = sum(1 for i in range(len(predicted_labels)) if predicted_labels[i] == 1 and test_labels[i] == 0)\n",
    "false_rejection = sum(1 for i in range(len(predicted_labels)) if predicted_labels[i] == 0 and test_labels[i] == 1)\n",
    "\n",
    "total_samples = len(test_labels)\n",
    "hter = ((false_acceptance + false_rejection) / (2 * total_samples)) * 100\n",
    "print(f\"HTER: {hter:.2f}%\")\n",
    "\n",
    "\n"
   ]
  },
  {
   "cell_type": "code",
   "execution_count": 8,
   "metadata": {},
   "outputs": [
    {
     "name": "stdout",
     "output_type": "stream",
     "text": [
      "AUC on the testing set: 81.62\n"
     ]
    }
   ],
   "source": [
    "# Calculate the AUC on the testing set\n",
    "from sklearn.metrics import roc_auc_score\n",
    "auc_score = roc_auc_score(test_labels, test_scores)\n",
    "print(f\"AUC on the testing set: {auc_score*100:.2f}\")"
   ]
  }
 ],
 "metadata": {
  "kernelspec": {
   "display_name": "pt",
   "language": "python",
   "name": "python3"
  },
  "language_info": {
   "codemirror_mode": {
    "name": "ipython",
    "version": 3
   },
   "file_extension": ".py",
   "mimetype": "text/x-python",
   "name": "python",
   "nbconvert_exporter": "python",
   "pygments_lexer": "ipython3",
   "version": "3.11.5"
  },
  "orig_nbformat": 4
 },
 "nbformat": 4,
 "nbformat_minor": 2
}

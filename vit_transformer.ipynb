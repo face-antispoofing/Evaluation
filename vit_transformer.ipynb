{
 "cells": [
  {
   "cell_type": "code",
   "execution_count": 1,
   "metadata": {},
   "outputs": [],
   "source": [
    "import torch\n",
    "import torch.nn as nn\n",
    "import torch.optim as optim\n",
    "from torch.utils.data import DataLoader, Dataset\n",
    "from transformers import ViTImageProcessor, ViTForImageClassification\n",
    "from PIL import Image\n",
    "import requests\n",
    "from sklearn.metrics import roc_auc_score\n",
    "from sklearn.metrics import roc_curve\n",
    "import numpy as np"
   ]
  },
  {
   "cell_type": "code",
   "execution_count": 2,
   "metadata": {},
   "outputs": [],
   "source": [
    "processor = ViTImageProcessor.from_pretrained('google/vit-base-patch16-224')\n",
    "model = ViTForImageClassification.from_pretrained('google/vit-base-patch16-224')\n"
   ]
  },
  {
   "cell_type": "code",
   "execution_count": 3,
   "metadata": {},
   "outputs": [],
   "source": [
    "# Define a custom dataset class\n",
    "class CustomDataset(Dataset):\n",
    "    def __init__(self, data, labels, transform=None):\n",
    "        self.data = data\n",
    "        self.labels = labels\n",
    "        self.transform = transform\n",
    "\n",
    "    def __len__(self):\n",
    "        return len(self.data)\n",
    "\n",
    "    def __getitem__(self, idx):\n",
    "        sample = self.data[idx]\n",
    "        label = self.labels[idx]\n",
    "\n",
    "        if self.transform:\n",
    "            sample = self.transform(sample)\n",
    "\n",
    "        return sample, label"
   ]
  },
  {
   "cell_type": "code",
   "execution_count": 4,
   "metadata": {},
   "outputs": [],
   "source": [
    "from torchvision.datasets import ImageFolder\n",
    "from torchvision.transforms import transforms\n",
    "\n",
    "# Define data transforms (you can modify these based on your needs)\n",
    "transform = transforms.Compose([\n",
    "    transforms.Resize((224, 224)),  # Resize images to a consistent size\n",
    "    transforms.ToTensor(),           # Convert images to tensors\n",
    "    transforms.Normalize((0.5, 0.5, 0.5), (0.5, 0.5, 0.5)),  # Normalize pixel values\n",
    "])\n",
    "\n",
    "# Define paths to your data folders\n",
    "train_data_dir = '/u/45/muhammu2/data/Desktop/sample/train/'\n",
    "val_data_dir = '/u/45/muhammu2/data/Desktop/sample/validation/'\n",
    "test_data_dir = '/u/45/muhammu2/data/Desktop/sample/test/'\n",
    "\n",
    "# Load your training, validation, and test datasets using ImageFolder\n",
    "train_dataset = ImageFolder(root=train_data_dir, transform=transform)\n",
    "val_dataset = ImageFolder(root=val_data_dir, transform=transform)\n",
    "test_dataset = ImageFolder(root=test_data_dir, transform=transform)\n",
    "\n",
    "# If you want to access the labels for train, validation, and test datasets:\n",
    "train_labels = train_dataset.targets\n",
    "val_labels = val_dataset.targets\n",
    "test_labels = test_dataset.targets\n",
    "\n",
    "# Create data loaders\n",
    "batch_size = 8  # Adjust the batch size as needed\n",
    "train_loader = DataLoader(train_dataset, batch_size=batch_size, shuffle=True)\n",
    "val_loader = DataLoader(val_dataset, batch_size=batch_size, shuffle=False)\n",
    "test_loader = DataLoader(test_dataset, batch_size=batch_size, shuffle=False)\n"
   ]
  },
  {
   "cell_type": "code",
   "execution_count": 5,
   "metadata": {},
   "outputs": [],
   "source": [
    "# Define a binary classification head\n",
    "class BinaryClassificationHead(nn.Module):\n",
    "    def __init__(self, input_size, hidden_size):\n",
    "        super(BinaryClassificationHead, self).__init__()\n",
    "        self.fc1 = nn.Linear(input_size, hidden_size)\n",
    "        self.fc2 = nn.Linear(hidden_size, 1)\n",
    "\n",
    "    def forward(self, x):\n",
    "        x = torch.relu(self.fc1(x))\n",
    "        x = self.fc2(x)\n",
    "        return x\n",
    "\n",
    "# Modify the Swin Transformer model for binary classification\n",
    "classifier_head = BinaryClassificationHead(768, 32)  # Adjust input size as needed\n",
    "model.classifier = classifier_head\n",
    "\n",
    "# Define loss function and optimizer\n",
    "criterion = nn.BCEWithLogitsLoss()\n",
    "optimizer = optim.AdamW(model.parameters(), lr=1e-4)\n"
   ]
  },
  {
   "cell_type": "code",
   "execution_count": 6,
   "metadata": {},
   "outputs": [
    {
     "name": "stdout",
     "output_type": "stream",
     "text": [
      "Epoch 1, Loss: 0.2675505539816287\n",
      "Epoch 2, Loss: 0.05120344125251803\n",
      "Epoch 3, Loss: 0.049050706945773626\n",
      "Epoch 4, Loss: 0.037369880049178995\n",
      "Epoch 5, Loss: 0.003922998147188789\n",
      "Epoch 6, Loss: 0.002384590680917932\n",
      "Epoch 7, Loss: 0.0017179004007226062\n",
      "Epoch 8, Loss: 0.0013130273062011435\n",
      "Epoch 9, Loss: 0.001040469294336314\n",
      "Epoch 10, Loss: 0.0008459321449562493\n"
     ]
    }
   ],
   "source": [
    "# Training loop\n",
    "num_epochs = 10  # Modify this as needed\n",
    "device = torch.device('cuda' if torch.cuda.is_available() else 'cpu')\n",
    "model.to(device)\n",
    "\n",
    "for epoch in range(num_epochs):\n",
    "    model.train()\n",
    "    running_loss = 0.0\n",
    "    for data, labels in train_loader:\n",
    "        data, labels = data.to(device), labels.to(device)\n",
    "        optimizer.zero_grad()\n",
    "        outputs = model(data).logits\n",
    "        loss = criterion(outputs, labels.unsqueeze(1).float())\n",
    "        loss.backward()\n",
    "        optimizer.step()\n",
    "        running_loss += loss.item()\n",
    "    \n",
    "    print(f\"Epoch {epoch+1}, Loss: {running_loss/len(train_loader)}\")\n"
   ]
  },
  {
   "cell_type": "code",
   "execution_count": 7,
   "metadata": {},
   "outputs": [
    {
     "name": "stdout",
     "output_type": "stream",
     "text": [
      "Validation EER: 0.0000, EER Threshold: 0.0038\n"
     ]
    }
   ],
   "source": [
    "# Validation set for EER calculation\n",
    "model.eval()\n",
    "val_labels, val_scores = [], []\n",
    "\n",
    "with torch.no_grad():\n",
    "    for data, labels in val_loader:\n",
    "        data, labels = data.to(device), labels.to(device)\n",
    "        outputs = model(data).logits\n",
    "        val_labels.extend(labels.cpu().numpy())\n",
    "        val_scores.extend(torch.sigmoid(outputs).cpu().numpy())\n",
    "\n",
    "\n",
    "# Calculate Equal Error Rate (EER) on the validation set\n",
    "fpr, tpr, thresholds = roc_curve(val_labels, val_scores, pos_label=1)\n",
    "eer_threshold = thresholds[np.argmin(np.abs(tpr - (1 - fpr)))]\n",
    "eer = 1 - tpr[np.argmin(np.abs(tpr - (1 - fpr)))]\n",
    "print(f'Validation EER: {eer*100:.4f}, EER Threshold: {eer_threshold:.4f}')"
   ]
  },
  {
   "cell_type": "code",
   "execution_count": 8,
   "metadata": {},
   "outputs": [
    {
     "name": "stdout",
     "output_type": "stream",
     "text": [
      "HTER using EER threshold: 34.86%\n"
     ]
    }
   ],
   "source": [
    "\n",
    "# Initialize lists to store test scores and labels\n",
    "test_labels, test_scores = [], []\n",
    "\n",
    "# Make predictions on the test set\n",
    "model.eval()\n",
    "with torch.no_grad():\n",
    "    for data, labels in test_loader:\n",
    "        data, labels = data.to(device), labels.to(device)\n",
    "        outputs = model(data).logits\n",
    "        test_labels.extend(labels.cpu().numpy())\n",
    "        test_scores.extend(torch.sigmoid(outputs).cpu().numpy())\n",
    "\n",
    "# Calculate the HTER on the testing set using the EER threshold\n",
    "threshold = eer_threshold\n",
    "predicted_labels = [1 if score > threshold else 0 for score in test_scores]\n",
    "\n",
    "false_acceptance = sum(1 for i in range(len(predicted_labels)) if predicted_labels[i] == 1 and test_labels[i] == 0)\n",
    "false_rejection = sum(1 for i in range(len(predicted_labels)) if predicted_labels[i] == 0 and test_labels[i] == 1)\n",
    "\n",
    "total_samples = len(test_labels)\n",
    "hter = ((false_acceptance + false_rejection) / (2 * total_samples)) * 100\n",
    "print(f\"HTER using EER threshold: {hter:.2f}%\")\n"
   ]
  },
  {
   "cell_type": "code",
   "execution_count": 9,
   "metadata": {},
   "outputs": [
    {
     "name": "stdout",
     "output_type": "stream",
     "text": [
      "AUC on the testing set: 68.13\n"
     ]
    }
   ],
   "source": [
    "# Calculate the AUC on the testing set\n",
    "from sklearn.metrics import roc_auc_score\n",
    "auc_score = roc_auc_score(test_labels, test_scores)\n",
    "print(f\"AUC on the testing set: {auc_score*100:.2f}\")"
   ]
  }
 ],
 "metadata": {
  "kernelspec": {
   "display_name": "pt",
   "language": "python",
   "name": "python3"
  },
  "language_info": {
   "codemirror_mode": {
    "name": "ipython",
    "version": 3
   },
   "file_extension": ".py",
   "mimetype": "text/x-python",
   "name": "python",
   "nbconvert_exporter": "python",
   "pygments_lexer": "ipython3",
   "version": "3.11.5"
  },
  "orig_nbformat": 4
 },
 "nbformat": 4,
 "nbformat_minor": 2
}

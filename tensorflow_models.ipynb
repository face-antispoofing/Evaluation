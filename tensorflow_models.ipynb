{
 "cells": [
  {
   "cell_type": "code",
   "execution_count": 1,
   "id": "46c15741-d048-46b7-8ba9-56bdd9dc7782",
   "metadata": {},
   "outputs": [
    {
     "name": "stderr",
     "output_type": "stream",
     "text": [
      "2023-11-10 02:19:44.397025: I tensorflow/core/util/port.cc:110] oneDNN custom operations are on. You may see slightly different numerical results due to floating-point round-off errors from different computation orders. To turn them off, set the environment variable `TF_ENABLE_ONEDNN_OPTS=0`.\n",
      "2023-11-10 02:19:44.436854: I tensorflow/core/platform/cpu_feature_guard.cc:182] This TensorFlow binary is optimized to use available CPU instructions in performance-critical operations.\n",
      "To enable the following instructions: SSE4.1 SSE4.2 AVX AVX2 AVX_VNNI FMA, in other operations, rebuild TensorFlow with the appropriate compiler flags.\n"
     ]
    }
   ],
   "source": [
    "import tensorflow\n",
    "import os\n",
    "import numpy as np\n",
    "from tensorflow import keras \n",
    "from keras.models import Sequential\n",
    "from keras.layers import Dense, Conv2D, Dropout, Flatten\n",
    "from keras.applications.resnet import ResNet50, preprocess_input,ResNet101\n",
    "from tensorflow.keras.applications import (\n",
    "    InceptionV3, ResNet50, ResNet101, MobileNetV2,\n",
    "    DenseNet121, VGG16, VGG19, DenseNet169,\n",
    "    DenseNet201, Xception, NASNetLarge, NASNetMobile,\n",
    "    EfficientNetB0, EfficientNetB1, EfficientNetB2,\n",
    "    EfficientNetB3, EfficientNetB4, EfficientNetB5,\n",
    "    EfficientNetB6, EfficientNetB7\n",
    ")\n",
    "from keras.preprocessing import image\n",
    "from keras.callbacks import ModelCheckpoint\n",
    "from sklearn.metrics import f1_score, precision_score, recall_score, confusion_matrix,classification_report\n",
    "from sklearn.metrics import roc_curve"
   ]
  },
  {
   "cell_type": "code",
   "execution_count": 2,
   "id": "2b391243",
   "metadata": {},
   "outputs": [
    {
     "name": "stdout",
     "output_type": "stream",
     "text": [
      "Found 240 images belonging to 2 classes.\n",
      "Found 360 images belonging to 2 classes.\n",
      "Found 480 images belonging to 2 classes.\n"
     ]
    }
   ],
   "source": [
    "\n",
    "# Set dataset paths\n",
    "ct_train_path = \"/u/45/muhammu2/data/Desktop/group1/trainset/\"\n",
    "ct_validation_path = \"/u/45/muhammu2/data/Desktop/group1/validation/\"\n",
    "ct_test_path = \"/u/45/muhammu2/data/Desktop/group1/testset/\"\n",
    "\n",
    "# Number of classes depends on the dataset (2 for the binary classification)\n",
    "ct_num_classes = 2\n",
    "\n",
    "# Image size depends on the pretrained model (224 for InceptionV3)\n",
    "np.random.seed(42)\n",
    "image_size = 224\n",
    "batch_size = 16\n",
    "epoch_num = 15\n",
    "\n",
    "# Define a data generator for training set with data augmentation\n",
    "ct_train_datagen = image.ImageDataGenerator(\n",
    "    rescale=1./255,\n",
    "    vertical_flip=True,\n",
    "    horizontal_flip=True,\n",
    "    preprocessing_function=preprocess_input)\n",
    "\n",
    "ct_train_generator = ct_train_datagen.flow_from_directory(\n",
    "    ct_train_path,\n",
    "    target_size=(image_size, image_size),\n",
    "    batch_size=batch_size,\n",
    "    class_mode='categorical')\n",
    "\n",
    "# Define a data generator for validation set (without data augmentation)\n",
    "ct_validation_datagen = image.ImageDataGenerator(rescale=1./255, preprocessing_function=preprocess_input)\n",
    "\n",
    "ct_validation_generator = ct_validation_datagen.flow_from_directory(\n",
    "    ct_validation_path,\n",
    "    target_size=(image_size, image_size),\n",
    "    batch_size=batch_size,\n",
    "    class_mode='categorical')\n",
    "\n",
    "# Define a data generator for testing set (without data augmentation)\n",
    "ct_test_datagen = image.ImageDataGenerator(rescale=1./255, preprocessing_function=preprocess_input)\n",
    "\n",
    "ct_test_generator = ct_test_datagen.flow_from_directory(\n",
    "    ct_test_path,\n",
    "    target_size=(image_size, image_size),\n",
    "    batch_size=batch_size,\n",
    "    class_mode='categorical')"
   ]
  },
  {
   "cell_type": "code",
   "execution_count": 3,
   "id": "cda7b114",
   "metadata": {},
   "outputs": [
    {
     "name": "stderr",
     "output_type": "stream",
     "text": [
      "2023-11-10 02:19:46.187843: I tensorflow/compiler/xla/stream_executor/cuda/cuda_gpu_executor.cc:995] successful NUMA node read from SysFS had negative value (-1), but there must be at least one NUMA node, so returning NUMA node zero. See more at https://github.com/torvalds/linux/blob/v6.0/Documentation/ABI/testing/sysfs-bus-pci#L344-L355\n",
      "2023-11-10 02:19:46.215902: I tensorflow/compiler/xla/stream_executor/cuda/cuda_gpu_executor.cc:995] successful NUMA node read from SysFS had negative value (-1), but there must be at least one NUMA node, so returning NUMA node zero. See more at https://github.com/torvalds/linux/blob/v6.0/Documentation/ABI/testing/sysfs-bus-pci#L344-L355\n",
      "2023-11-10 02:19:46.216145: I tensorflow/compiler/xla/stream_executor/cuda/cuda_gpu_executor.cc:995] successful NUMA node read from SysFS had negative value (-1), but there must be at least one NUMA node, so returning NUMA node zero. See more at https://github.com/torvalds/linux/blob/v6.0/Documentation/ABI/testing/sysfs-bus-pci#L344-L355\n",
      "2023-11-10 02:19:46.217786: I tensorflow/compiler/xla/stream_executor/cuda/cuda_gpu_executor.cc:995] successful NUMA node read from SysFS had negative value (-1), but there must be at least one NUMA node, so returning NUMA node zero. See more at https://github.com/torvalds/linux/blob/v6.0/Documentation/ABI/testing/sysfs-bus-pci#L344-L355\n",
      "2023-11-10 02:19:46.217997: I tensorflow/compiler/xla/stream_executor/cuda/cuda_gpu_executor.cc:995] successful NUMA node read from SysFS had negative value (-1), but there must be at least one NUMA node, so returning NUMA node zero. See more at https://github.com/torvalds/linux/blob/v6.0/Documentation/ABI/testing/sysfs-bus-pci#L344-L355\n",
      "2023-11-10 02:19:46.218097: I tensorflow/compiler/xla/stream_executor/cuda/cuda_gpu_executor.cc:995] successful NUMA node read from SysFS had negative value (-1), but there must be at least one NUMA node, so returning NUMA node zero. See more at https://github.com/torvalds/linux/blob/v6.0/Documentation/ABI/testing/sysfs-bus-pci#L344-L355\n",
      "2023-11-10 02:19:46.327669: I tensorflow/compiler/xla/stream_executor/cuda/cuda_gpu_executor.cc:995] successful NUMA node read from SysFS had negative value (-1), but there must be at least one NUMA node, so returning NUMA node zero. See more at https://github.com/torvalds/linux/blob/v6.0/Documentation/ABI/testing/sysfs-bus-pci#L344-L355\n",
      "2023-11-10 02:19:46.327956: I tensorflow/compiler/xla/stream_executor/cuda/cuda_gpu_executor.cc:995] successful NUMA node read from SysFS had negative value (-1), but there must be at least one NUMA node, so returning NUMA node zero. See more at https://github.com/torvalds/linux/blob/v6.0/Documentation/ABI/testing/sysfs-bus-pci#L344-L355\n",
      "2023-11-10 02:19:46.328161: I tensorflow/compiler/xla/stream_executor/cuda/cuda_gpu_executor.cc:995] successful NUMA node read from SysFS had negative value (-1), but there must be at least one NUMA node, so returning NUMA node zero. See more at https://github.com/torvalds/linux/blob/v6.0/Documentation/ABI/testing/sysfs-bus-pci#L344-L355\n",
      "2023-11-10 02:19:46.328317: I tensorflow/core/common_runtime/gpu/gpu_device.cc:1639] Created device /job:localhost/replica:0/task:0/device:GPU:0 with 6034 MB memory:  -> device: 0, name: NVIDIA RTX A2000 8GB Laptop GPU, pci bus id: 0000:01:00.0, compute capability: 8.6\n"
     ]
    }
   ],
   "source": [
    "# Assuming image_size is set to 224\n",
    "input_shape = (224, 224, 3)  # Adjust according to the target size of your images\n",
    "\n",
    "# Create different models for comparison and choose the best model\n",
    "base_model = InceptionV3(include_top=False, pooling='max', weights='imagenet', input_shape=input_shape)\n",
    "base_model = ResNet50(include_top=False, pooling='max', weights='imagenet', input_shape=input_shape)\n",
    "base_model = ResNet101(include_top=False, pooling='max', weights='imagenet', input_shape=input_shape)\n",
    "base_model = MobileNetV2(include_top=False, pooling='max', weights='imagenet', input_shape=input_shape)\n",
    "base_model = DenseNet121(include_top=False, pooling='max', weights='imagenet', input_shape=input_shape)\n",
    "base_model = VGG16(include_top=False, pooling='max', weights='imagenet', input_shape=input_shape)\n",
    "base_model = VGG19(include_top=False, pooling='max', weights='imagenet', input_shape=input_shape)\n",
    "base_model = DenseNet169(include_top=False, pooling='max', weights='imagenet', input_shape=input_shape)\n",
    "base_model = DenseNet201(include_top=False, pooling='max', weights='imagenet', input_shape=input_shape)\n",
    "base_model = Xception(include_top=False, pooling='max', weights='imagenet', input_shape=input_shape)\n",
    "base_model = NASNetLarge(include_top=False, weights='imagenet', input_shape=input_shape)\n",
    "base_model = NASNetMobile(include_top=False, weights='imagenet', input_shape=input_shape)\n",
    "base_model = EfficientNetB0(include_top=False, weights='imagenet', input_shape=input_shape)\n",
    "base_model = EfficientNetB1(include_top=False, weights='imagenet', input_shape=input_shape)\n",
    "base_model = EfficientNetB2(include_top=False, weights='imagenet', input_shape=input_shape)\n",
    "base_model = EfficientNetB3(include_top=False, weights='imagenet', input_shape=input_shape)\n",
    "base_model = EfficientNetB4(include_top=False, weights='imagenet', input_shape=input_shape)\n",
    "base_model = EfficientNetB5(include_top=False, weights='imagenet', input_shape=input_shape)\n",
    "base_model = EfficientNetB6(include_top=False, weights='imagenet', input_shape=input_shape)\n",
    "base_model = EfficientNetB7(include_top=False, weights='imagenet', input_shape=input_shape)"
   ]
  },
  {
   "cell_type": "code",
   "execution_count": 4,
   "id": "051e0a91",
   "metadata": {},
   "outputs": [
    {
     "name": "stdout",
     "output_type": "stream",
     "text": [
      "Model: \"sequential_1\"\n",
      "_________________________________________________________________\n",
      " Layer (type)                Output Shape              Param #   \n",
      "=================================================================\n",
      " efficientnetb7 (Functional  (None, 2560)              64097687  \n",
      " )                                                               \n",
      "                                                                 \n",
      " sequential (Sequential)     (None, 2)                 164034    \n",
      "                                                                 \n",
      "=================================================================\n",
      "Total params: 64261721 (245.14 MB)\n",
      "Trainable params: 164034 (640.76 KB)\n",
      "Non-trainable params: 64097687 (244.51 MB)\n",
      "_________________________________________________________________\n"
     ]
    }
   ],
   "source": [
    "\n",
    "# Assuming image_size is set to 224\n",
    "input_shape = (224, 224, 3)  # Adjust according to the target size of your images\n",
    "\n",
    "# Create the ResNet50 base (without the top layer)\n",
    "base_model = EfficientNetB7(include_top=False, pooling='max', weights='imagenet', input_shape=input_shape)\n",
    "\n",
    "# Freeze the weights of the ResNet50 base\n",
    "base_model.trainable = False\n",
    "\n",
    "# Create the top layers for binary classification\n",
    "top_model = Sequential()\n",
    "top_model.add(Flatten())\n",
    "top_model.add(Dense(64, activation='relu'))\n",
    "top_model.add(Dense(ct_num_classes, activation='sigmoid'))  # Change to 'sigmoid' for binary classification\n",
    "\n",
    "# Combine the base and top models\n",
    "model = Sequential()\n",
    "model.add(base_model)\n",
    "model.add(top_model)\n",
    "\n",
    "# Compile the combined model\n",
    "opt = keras.optimizers.Adam(learning_rate=0.001)\n",
    "model.compile(optimizer=opt, loss='binary_crossentropy', metrics=['accuracy'])\n",
    "\n",
    "# Display the model summary\n",
    "model.summary()\n"
   ]
  },
  {
   "cell_type": "code",
   "execution_count": 5,
   "id": "901fd169",
   "metadata": {},
   "outputs": [],
   "source": [
    "# Define model parameters\n",
    "steps_per_epoch = ct_train_generator.samples // batch_size\n",
    "validation_steps = ct_validation_generator.samples // batch_size"
   ]
  },
  {
   "cell_type": "code",
   "execution_count": 6,
   "id": "8fe46d43",
   "metadata": {},
   "outputs": [
    {
     "name": "stdout",
     "output_type": "stream",
     "text": [
      "Epoch 1/15\n"
     ]
    },
    {
     "name": "stderr",
     "output_type": "stream",
     "text": [
      "2023-11-10 02:20:55.108257: I tensorflow/compiler/xla/stream_executor/cuda/cuda_dnn.cc:432] Loaded cuDNN version 8800\n",
      "2023-11-10 02:20:55.342907: I tensorflow/compiler/xla/stream_executor/cuda/cuda_blas.cc:606] TensorFloat-32 will be used for the matrix multiplication. This will only be logged once.\n",
      "2023-11-10 02:20:55.563292: I tensorflow/compiler/xla/service/service.cc:168] XLA service 0x7fc49c3aa3d0 initialized for platform CUDA (this does not guarantee that XLA will be used). Devices:\n",
      "2023-11-10 02:20:55.563313: I tensorflow/compiler/xla/service/service.cc:176]   StreamExecutor device (0): NVIDIA RTX A2000 8GB Laptop GPU, Compute Capability 8.6\n",
      "2023-11-10 02:20:55.567724: I tensorflow/compiler/mlir/tensorflow/utils/dump_mlir_util.cc:255] disabling MLIR crash reproducer, set env var `MLIR_CRASH_REPRODUCER_DIRECTORY` to enable.\n",
      "2023-11-10 02:20:55.646093: I ./tensorflow/compiler/jit/device_compiler.h:186] Compiled cluster using XLA!  This line is logged at most once for the lifetime of the process.\n"
     ]
    },
    {
     "name": "stdout",
     "output_type": "stream",
     "text": [
      "15/15 [==============================] - 27s 962ms/step - loss: 2.9907 - accuracy: 0.7083 - val_loss: 0.8591 - val_accuracy: 0.2443\n",
      "Epoch 2/15\n",
      "15/15 [==============================] - 10s 658ms/step - loss: 0.7080 - accuracy: 0.5208 - val_loss: 0.6922 - val_accuracy: 0.7500\n",
      "Epoch 3/15\n",
      "15/15 [==============================] - 11s 716ms/step - loss: 0.6909 - accuracy: 0.7500 - val_loss: 0.6893 - val_accuracy: 0.7585\n",
      "Epoch 4/15\n",
      "15/15 [==============================] - 9s 627ms/step - loss: 0.6881 - accuracy: 0.7500 - val_loss: 0.6863 - val_accuracy: 0.7500\n",
      "Epoch 5/15\n",
      "15/15 [==============================] - 10s 711ms/step - loss: 0.6850 - accuracy: 0.7500 - val_loss: 0.6834 - val_accuracy: 0.7472\n",
      "Epoch 6/15\n",
      "15/15 [==============================] - 9s 644ms/step - loss: 0.6819 - accuracy: 0.7500 - val_loss: 0.6802 - val_accuracy: 0.7528\n",
      "Epoch 7/15\n",
      "15/15 [==============================] - 9s 574ms/step - loss: 0.6789 - accuracy: 0.7500 - val_loss: 0.6775 - val_accuracy: 0.7472\n",
      "Epoch 8/15\n",
      "15/15 [==============================] - 8s 547ms/step - loss: 0.6758 - accuracy: 0.7500 - val_loss: 0.6744 - val_accuracy: 0.7500\n",
      "Epoch 9/15\n",
      "15/15 [==============================] - 9s 601ms/step - loss: 0.6731 - accuracy: 0.7500 - val_loss: 0.6714 - val_accuracy: 0.7500\n",
      "Epoch 10/15\n",
      "15/15 [==============================] - 8s 565ms/step - loss: 0.6701 - accuracy: 0.7500 - val_loss: 0.6686 - val_accuracy: 0.7500\n",
      "Epoch 11/15\n",
      "15/15 [==============================] - 9s 599ms/step - loss: 0.6672 - accuracy: 0.7500 - val_loss: 0.6659 - val_accuracy: 0.7500\n",
      "Epoch 12/15\n",
      "15/15 [==============================] - 8s 571ms/step - loss: 0.6645 - accuracy: 0.7500 - val_loss: 0.6639 - val_accuracy: 0.7443\n",
      "Epoch 13/15\n",
      "15/15 [==============================] - 8s 555ms/step - loss: 0.6618 - accuracy: 0.7500 - val_loss: 0.6608 - val_accuracy: 0.7472\n",
      "Epoch 14/15\n",
      "15/15 [==============================] - 8s 541ms/step - loss: 0.6592 - accuracy: 0.7500 - val_loss: 0.6573 - val_accuracy: 0.7528\n",
      "Epoch 15/15\n",
      "15/15 [==============================] - 8s 536ms/step - loss: 0.6566 - accuracy: 0.7500 - val_loss: 0.6551 - val_accuracy: 0.7500\n"
     ]
    },
    {
     "data": {
      "text/plain": [
       "<keras.src.callbacks.History at 0x7fc4c43eca50>"
      ]
     },
     "execution_count": 6,
     "metadata": {},
     "output_type": "execute_result"
    }
   ],
   "source": [
    "# Assuming you have already defined ct_train_generator, ct_validation_generator, steps_per_epoch, epoch_num, and validation_steps\n",
    "\n",
    "# Train the model using the fit method\n",
    "model.fit(\n",
    "    ct_train_generator,\n",
    "    steps_per_epoch=steps_per_epoch,\n",
    "    epochs=epoch_num,\n",
    "    validation_data=ct_validation_generator,\n",
    "    validation_steps=validation_steps,\n",
    "    verbose=1\n",
    ")\n"
   ]
  },
  {
   "cell_type": "code",
   "execution_count": 9,
   "id": "596f25f0",
   "metadata": {},
   "outputs": [
    {
     "name": "stdout",
     "output_type": "stream",
     "text": [
      "23/23 [==============================] - 6s 271ms/step\n",
      "30/30 [==============================] - 6s 198ms/step\n",
      "Equal Error Rate (EER) on validation set: 0.00%\n",
      "Half Total Error Rate (HTER) for Face Anti-Spoofing: 8.33%\n"
     ]
    }
   ],
   "source": [
    "\n",
    "# Assuming you have the true labels for the validation and test sets\n",
    "true_labels_validation = ct_validation_generator.classes\n",
    "true_labels_test = ct_test_generator.classes\n",
    "\n",
    "# Assuming you have the predicted probabilities for the positive class (spoofed) from your model\n",
    "predicted_probabilities_validation = model.predict(ct_validation_generator)[:, 1]\n",
    "predicted_probabilities_test = model.predict(ct_test_generator)[:, 1]\n",
    "\n",
    "# Compute the ROC curve on the validation set\n",
    "fpr, tpr, thresholds = roc_curve(true_labels_validation, predicted_probabilities_validation, pos_label=1)\n",
    "\n",
    "# Calculate EER on the validation set\n",
    "eer = fpr[np.nanargmin(np.abs(fpr - (1 - tpr)))]\n",
    "\n",
    "# Find the threshold where FAR equals FRR (EER threshold)\n",
    "eer_threshold = thresholds[np.nanargmin(np.abs(fpr - (1 - tpr)))]\n",
    "\n",
    "# Apply the EER threshold to the test set predictions\n",
    "predictions_test = (predicted_probabilities_test > eer_threshold).astype(int)\n",
    "\n",
    "# Calculate HTER on the test set\n",
    "false_acceptance = np.sum((predictions_test == 1) & (true_labels_test == 0))\n",
    "false_rejection = np.sum((predictions_test == 0) & (true_labels_test == 1))\n",
    "total_samples_test = len(true_labels_test)\n",
    "\n",
    "hter = (false_acceptance + false_rejection) / (2 * total_samples_test)\n",
    "\n",
    "# Display EER and HTER\n",
    "print(f\"Equal Error Rate (EER) on validation set: {eer:.2%}\")\n",
    "print(f\"Half Total Error Rate (HTER) for Face Anti-Spoofing: {hter:.2%}\")"
   ]
  }
 ],
 "metadata": {
  "kernelspec": {
   "display_name": "t",
   "language": "python",
   "name": "t"
  },
  "language_info": {
   "codemirror_mode": {
    "name": "ipython",
    "version": 3
   },
   "file_extension": ".py",
   "mimetype": "text/x-python",
   "name": "python",
   "nbconvert_exporter": "python",
   "pygments_lexer": "ipython3",
   "version": "3.11.6"
  }
 },
 "nbformat": 4,
 "nbformat_minor": 5
}
